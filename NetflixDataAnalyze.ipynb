{
  "nbformat": 4,
  "nbformat_minor": 0,
  "metadata": {
    "colab": {
      "name": "NetflixDataAnalyze.ipynb",
      "provenance": [],
      "toc_visible": true,
      "authorship_tag": "ABX9TyNszaElpMjOJu4WFCmFDSA/",
      "include_colab_link": true
    },
    "kernelspec": {
      "name": "python3",
      "display_name": "Python 3"
    }
  },
  "cells": [
    {
      "cell_type": "markdown",
      "metadata": {
        "id": "view-in-github",
        "colab_type": "text"
      },
      "source": [
        "<a href=\"https://colab.research.google.com/github/gaop123/SuperList/blob/master/NetflixDataAnalyze.ipynb\" target=\"_parent\"><img src=\"https://colab.research.google.com/assets/colab-badge.svg\" alt=\"Open In Colab\"/></a>"
      ]
    },
    {
      "cell_type": "markdown",
      "metadata": {
        "id": "daOedV1A-JLP",
        "colab_type": "text"
      },
      "source": [
        "# Objectives:\n",
        "\n",
        "# 1. Clusterize Netflix movies\n",
        "# 2. Clusterize Netflix users\n"
      ]
    },
    {
      "cell_type": "markdown",
      "metadata": {
        "id": "HpqsSwsG_D-f",
        "colab_type": "text"
      },
      "source": [
        "\n",
        "---\n",
        "\n"
      ]
    },
    {
      "cell_type": "markdown",
      "metadata": {
        "id": "hGZjt42G_oqk",
        "colab_type": "text"
      },
      "source": [
        "# First i will analyze the dataset\n",
        "Data loading\n",
        "\n",
        "Each data file (there are 4 of them) contains below columns:\n",
        "\n",
        "Movie ID (as first line of each new movie record / file)\n",
        "\n",
        "Customer ID\n",
        "\n",
        "Rating (1 to 5)\n",
        "\n",
        "Date they gave the ratings\n",
        "\n",
        "There is another file contains the mapping of Movie ID to the movie background like name, year of release, etc\n",
        "\n",
        "Let's import the library we needed before we get started:"
      ]
    },
    {
      "cell_type": "code",
      "metadata": {
        "id": "YRcOHwt4ccCs",
        "colab_type": "code",
        "colab": {}
      },
      "source": [
        "import pandas as pd\n",
        "import numpy as np\n",
        "import math\n",
        "import re\n",
        "from scipy.sparse import csr_matrix\n",
        "import matplotlib.pyplot as plt\n",
        "import seaborn as sns\n",
        "from surprise import Reader, Dataset, SVD, evaluate\n",
        "sns.set_style(\"darkgrid\")"
      ],
      "execution_count": 0,
      "outputs": []
    },
    {
      "cell_type": "markdown",
      "metadata": {
        "id": "vz47ZM-Wcd-d",
        "colab_type": "text"
      },
      "source": [
        "# **Task 1: Clusterize Netflix movies**\n",
        "\n",
        "I will try to clusterize the movies based on the rating recieved from the users,\n",
        "and **maybe** also based on the year that the movie was released in (i will decide if it's worth it based on statistics).\n",
        "\n",
        "For task 2 i will create a function\n",
        "F: movieID -> movieClusterId\n",
        "---\n",
        "\n",
        "The steps:\n",
        "\n",
        "*   Cleaning the data and reduce dimensionality.\n",
        "*   Compare few clustering algorithms\n",
        "\n",
        "    *   DBSCAN\n",
        "    *   K-means\n",
        "    *   XXX\n",
        "\n",
        "*   Create a function F that will map the movies to their corresponding clusters.\n",
        "\n",
        "\n",
        "\n",
        "\n"
      ]
    }
  ]
}